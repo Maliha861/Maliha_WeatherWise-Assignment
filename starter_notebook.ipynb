{
  "cells": [
    {
      "cell_type": "markdown",
      "metadata": {
        "id": "view-in-github",
        "colab_type": "text"
      },
      "source": [
        "<a href=\"https://colab.research.google.com/github/Maliha861/Maliha_WeatherWise-Assignment/blob/main/starter_notebook.ipynb\" target=\"_parent\"><img src=\"https://colab.research.google.com/assets/colab-badge.svg\" alt=\"Open In Colab\"/></a>"
      ]
    },
    {
      "cell_type": "markdown",
      "id": "72e78a05",
      "metadata": {
        "id": "72e78a05"
      },
      "source": [
        "# 🌦️ WeatherWise – Starter Notebook\n",
        "\n",
        "Welcome to your **WeatherWise** project notebook! This scaffold is designed to help you build your weather advisor app using Python, visualisations, and AI-enhanced development.\n",
        "\n",
        "---\n",
        "\n",
        "📄 **Full Assignment Specification**  \n",
        "See [`ASSIGNMENT.md`](ASSIGNMENT.md) or check the LMS for full details.\n",
        "\n",
        "📝 **Quick Refresher**  \n",
        "A one-page summary is available in [`resources/assignment-summary.md`](resources/assignment-summary.md).\n",
        "\n",
        "---\n",
        "\n",
        "🧠 **This Notebook Structure is Optional**  \n",
        "You’re encouraged to reorganise, rename sections, or remove scaffold cells if you prefer — as long as your final version meets the requirements.\n",
        "\n",
        "✅ You may delete this note before submission.\n",
        "\n"
      ]
    },
    {
      "cell_type": "markdown",
      "id": "fa8c7f6c",
      "metadata": {
        "id": "fa8c7f6c"
      },
      "source": [
        "## 🧰 Setup and Imports\n",
        "\n",
        "This section imports commonly used packages and installs any additional tools used in the project.\n",
        "\n",
        "- You may not need all of these unless you're using specific features (e.g. visualisations, advanced prompting).\n",
        "- The notebook assumes the following packages are **pre-installed** in the provided environment or installable via pip:\n",
        "  - `requests`, `matplotlib`, `pyinputplus`\n",
        "  - `fetch-my-weather` (for accessing weather data easily)\n",
        "  - `hands-on-ai` (for AI logging, comparisons, or prompting tools)\n",
        "\n",
        "If you're running this notebook in **Google Colab**, uncomment the following lines to install the required packages.\n"
      ]
    },
    {
      "cell_type": "markdown",
      "id": "59ae7543",
      "metadata": {
        "id": "59ae7543"
      },
      "source": [
        "## 📦 Setup and Configuration\n",
        "Import required packages and setup environment."
      ]
    },
    {
      "cell_type": "code",
      "metadata": {
        "colab": {
          "base_uri": "https://localhost:8080/"
        },
        "collapsed": true,
        "id": "0a0ea6b1",
        "outputId": "fd54868c-85cc-4bcc-f6bd-8c1ade37fc07"
      },
      "source": [
        "# Install required packages\n",
        "!pip install requests matplotlib pyinputplus fetch-my-weather hands-on-ai"
      ],
      "id": "0a0ea6b1",
      "execution_count": 20,
      "outputs": [
        {
          "output_type": "stream",
          "name": "stdout",
          "text": [
            "Requirement already satisfied: requests in /usr/local/lib/python3.12/dist-packages (2.32.4)\n",
            "Requirement already satisfied: matplotlib in /usr/local/lib/python3.12/dist-packages (3.10.0)\n",
            "Collecting pyinputplus\n",
            "  Downloading PyInputPlus-0.2.12.tar.gz (20 kB)\n",
            "  Installing build dependencies ... \u001b[?25l\u001b[?25hdone\n",
            "  Getting requirements to build wheel ... \u001b[?25l\u001b[?25hdone\n",
            "  Preparing metadata (pyproject.toml) ... \u001b[?25l\u001b[?25hdone\n",
            "Collecting fetch-my-weather\n",
            "  Downloading fetch_my_weather-0.4.0-py3-none-any.whl.metadata (12 kB)\n",
            "Collecting hands-on-ai\n",
            "  Downloading hands_on_ai-0.2.1-py3-none-any.whl.metadata (9.2 kB)\n",
            "Requirement already satisfied: charset_normalizer<4,>=2 in /usr/local/lib/python3.12/dist-packages (from requests) (3.4.3)\n",
            "Requirement already satisfied: idna<4,>=2.5 in /usr/local/lib/python3.12/dist-packages (from requests) (3.10)\n",
            "Requirement already satisfied: urllib3<3,>=1.21.1 in /usr/local/lib/python3.12/dist-packages (from requests) (2.5.0)\n",
            "Requirement already satisfied: certifi>=2017.4.17 in /usr/local/lib/python3.12/dist-packages (from requests) (2025.8.3)\n",
            "Requirement already satisfied: contourpy>=1.0.1 in /usr/local/lib/python3.12/dist-packages (from matplotlib) (1.3.3)\n",
            "Requirement already satisfied: cycler>=0.10 in /usr/local/lib/python3.12/dist-packages (from matplotlib) (0.12.1)\n",
            "Requirement already satisfied: fonttools>=4.22.0 in /usr/local/lib/python3.12/dist-packages (from matplotlib) (4.60.1)\n",
            "Requirement already satisfied: kiwisolver>=1.3.1 in /usr/local/lib/python3.12/dist-packages (from matplotlib) (1.4.9)\n",
            "Requirement already satisfied: numpy>=1.23 in /usr/local/lib/python3.12/dist-packages (from matplotlib) (2.0.2)\n",
            "Requirement already satisfied: packaging>=20.0 in /usr/local/lib/python3.12/dist-packages (from matplotlib) (25.0)\n",
            "Requirement already satisfied: pillow>=8 in /usr/local/lib/python3.12/dist-packages (from matplotlib) (11.3.0)\n",
            "Requirement already satisfied: pyparsing>=2.3.1 in /usr/local/lib/python3.12/dist-packages (from matplotlib) (3.2.5)\n",
            "Requirement already satisfied: python-dateutil>=2.7 in /usr/local/lib/python3.12/dist-packages (from matplotlib) (2.9.0.post0)\n",
            "Collecting pysimplevalidate>=0.2.7 (from pyinputplus)\n",
            "  Downloading PySimpleValidate-0.2.12.tar.gz (22 kB)\n",
            "  Installing build dependencies ... \u001b[?25l\u001b[?25hdone\n",
            "  Getting requirements to build wheel ... \u001b[?25l\u001b[?25hdone\n",
            "  Preparing metadata (pyproject.toml) ... \u001b[?25l\u001b[?25hdone\n",
            "Collecting stdiomask>=0.0.3 (from pyinputplus)\n",
            "  Downloading stdiomask-0.0.6.tar.gz (3.6 kB)\n",
            "  Installing build dependencies ... \u001b[?25l\u001b[?25hdone\n",
            "  Getting requirements to build wheel ... \u001b[?25l\u001b[?25hdone\n",
            "  Preparing metadata (pyproject.toml) ... \u001b[?25l\u001b[?25hdone\n",
            "Requirement already satisfied: pydantic>=1.8.0 in /usr/local/lib/python3.12/dist-packages (from fetch-my-weather) (2.11.9)\n",
            "Requirement already satisfied: typer in /usr/local/lib/python3.12/dist-packages (from hands-on-ai) (0.19.2)\n",
            "Collecting python-fasthtml (from hands-on-ai)\n",
            "  Downloading python_fasthtml-0.12.29-py3-none-any.whl.metadata (9.3 kB)\n",
            "Collecting python-docx (from hands-on-ai)\n",
            "  Downloading python_docx-1.2.0-py3-none-any.whl.metadata (2.0 kB)\n",
            "Collecting pymupdf (from hands-on-ai)\n",
            "  Downloading pymupdf-1.26.4-cp39-abi3-manylinux_2_28_x86_64.whl.metadata (3.4 kB)\n",
            "Requirement already satisfied: scikit-learn in /usr/local/lib/python3.12/dist-packages (from hands-on-ai) (1.6.1)\n",
            "Collecting instructor>=1.11.0 (from hands-on-ai)\n",
            "  Downloading instructor-1.11.3-py3-none-any.whl.metadata (11 kB)\n",
            "Requirement already satisfied: aiohttp<4.0.0,>=3.9.1 in /usr/local/lib/python3.12/dist-packages (from instructor>=1.11.0->hands-on-ai) (3.12.15)\n",
            "Collecting diskcache>=5.6.3 (from instructor>=1.11.0->hands-on-ai)\n",
            "  Downloading diskcache-5.6.3-py3-none-any.whl.metadata (20 kB)\n",
            "Requirement already satisfied: docstring-parser<1.0,>=0.16 in /usr/local/lib/python3.12/dist-packages (from instructor>=1.11.0->hands-on-ai) (0.17.0)\n",
            "Requirement already satisfied: jinja2<4.0.0,>=3.1.4 in /usr/local/lib/python3.12/dist-packages (from instructor>=1.11.0->hands-on-ai) (3.1.6)\n",
            "Collecting jiter<0.11,>=0.6.1 (from instructor>=1.11.0->hands-on-ai)\n",
            "  Downloading jiter-0.10.0-cp312-cp312-manylinux_2_17_x86_64.manylinux2014_x86_64.whl.metadata (5.2 kB)\n",
            "Requirement already satisfied: openai<2.0.0,>=1.70.0 in /usr/local/lib/python3.12/dist-packages (from instructor>=1.11.0->hands-on-ai) (1.109.1)\n",
            "Requirement already satisfied: pydantic-core<3.0.0,>=2.18.0 in /usr/local/lib/python3.12/dist-packages (from instructor>=1.11.0->hands-on-ai) (2.33.2)\n",
            "Requirement already satisfied: rich<15.0.0,>=13.7.0 in /usr/local/lib/python3.12/dist-packages (from instructor>=1.11.0->hands-on-ai) (13.9.4)\n",
            "Requirement already satisfied: tenacity<10.0.0,>=8.2.3 in /usr/local/lib/python3.12/dist-packages (from instructor>=1.11.0->hands-on-ai) (8.5.0)\n",
            "Requirement already satisfied: annotated-types>=0.6.0 in /usr/local/lib/python3.12/dist-packages (from pydantic>=1.8.0->fetch-my-weather) (0.7.0)\n",
            "Requirement already satisfied: typing-extensions>=4.12.2 in /usr/local/lib/python3.12/dist-packages (from pydantic>=1.8.0->fetch-my-weather) (4.15.0)\n",
            "Requirement already satisfied: typing-inspection>=0.4.0 in /usr/local/lib/python3.12/dist-packages (from pydantic>=1.8.0->fetch-my-weather) (0.4.2)\n",
            "Requirement already satisfied: six>=1.5 in /usr/local/lib/python3.12/dist-packages (from python-dateutil>=2.7->matplotlib) (1.17.0)\n",
            "Requirement already satisfied: click>=8.0.0 in /usr/local/lib/python3.12/dist-packages (from typer->hands-on-ai) (8.3.0)\n",
            "Requirement already satisfied: shellingham>=1.3.0 in /usr/local/lib/python3.12/dist-packages (from typer->hands-on-ai) (1.5.4)\n",
            "Requirement already satisfied: lxml>=3.1.0 in /usr/local/lib/python3.12/dist-packages (from python-docx->hands-on-ai) (5.4.0)\n",
            "Requirement already satisfied: fastcore>=1.8.1 in /usr/local/lib/python3.12/dist-packages (from python-fasthtml->hands-on-ai) (1.8.12)\n",
            "Requirement already satisfied: starlette>0.33 in /usr/local/lib/python3.12/dist-packages (from python-fasthtml->hands-on-ai) (0.48.0)\n",
            "Requirement already satisfied: oauthlib in /usr/local/lib/python3.12/dist-packages (from python-fasthtml->hands-on-ai) (3.3.1)\n",
            "Requirement already satisfied: itsdangerous in /usr/local/lib/python3.12/dist-packages (from python-fasthtml->hands-on-ai) (2.2.0)\n",
            "Requirement already satisfied: uvicorn>=0.30 in /usr/local/lib/python3.12/dist-packages (from uvicorn[standard]>=0.30->python-fasthtml->hands-on-ai) (0.37.0)\n",
            "Requirement already satisfied: httpx in /usr/local/lib/python3.12/dist-packages (from python-fasthtml->hands-on-ai) (0.28.1)\n",
            "Collecting fastlite>=0.1.1 (from python-fasthtml->hands-on-ai)\n",
            "  Downloading fastlite-0.2.1-py3-none-any.whl.metadata (12 kB)\n",
            "Requirement already satisfied: python-multipart in /usr/local/lib/python3.12/dist-packages (from python-fasthtml->hands-on-ai) (0.0.20)\n",
            "Requirement already satisfied: beautifulsoup4 in /usr/local/lib/python3.12/dist-packages (from python-fasthtml->hands-on-ai) (4.13.5)\n",
            "Requirement already satisfied: scipy>=1.6.0 in /usr/local/lib/python3.12/dist-packages (from scikit-learn->hands-on-ai) (1.16.2)\n",
            "Requirement already satisfied: joblib>=1.2.0 in /usr/local/lib/python3.12/dist-packages (from scikit-learn->hands-on-ai) (1.5.2)\n",
            "Requirement already satisfied: threadpoolctl>=3.1.0 in /usr/local/lib/python3.12/dist-packages (from scikit-learn->hands-on-ai) (3.6.0)\n",
            "Requirement already satisfied: aiohappyeyeballs>=2.5.0 in /usr/local/lib/python3.12/dist-packages (from aiohttp<4.0.0,>=3.9.1->instructor>=1.11.0->hands-on-ai) (2.6.1)\n",
            "Requirement already satisfied: aiosignal>=1.4.0 in /usr/local/lib/python3.12/dist-packages (from aiohttp<4.0.0,>=3.9.1->instructor>=1.11.0->hands-on-ai) (1.4.0)\n",
            "Requirement already satisfied: attrs>=17.3.0 in /usr/local/lib/python3.12/dist-packages (from aiohttp<4.0.0,>=3.9.1->instructor>=1.11.0->hands-on-ai) (25.3.0)\n",
            "Requirement already satisfied: frozenlist>=1.1.1 in /usr/local/lib/python3.12/dist-packages (from aiohttp<4.0.0,>=3.9.1->instructor>=1.11.0->hands-on-ai) (1.7.0)\n",
            "Requirement already satisfied: multidict<7.0,>=4.5 in /usr/local/lib/python3.12/dist-packages (from aiohttp<4.0.0,>=3.9.1->instructor>=1.11.0->hands-on-ai) (6.6.4)\n",
            "Requirement already satisfied: propcache>=0.2.0 in /usr/local/lib/python3.12/dist-packages (from aiohttp<4.0.0,>=3.9.1->instructor>=1.11.0->hands-on-ai) (0.3.2)\n",
            "Requirement already satisfied: yarl<2.0,>=1.17.0 in /usr/local/lib/python3.12/dist-packages (from aiohttp<4.0.0,>=3.9.1->instructor>=1.11.0->hands-on-ai) (1.20.1)\n",
            "Collecting apswutils>=0.1.0 (from fastlite>=0.1.1->python-fasthtml->hands-on-ai)\n",
            "  Downloading apswutils-0.1.0-py3-none-any.whl.metadata (7.4 kB)\n",
            "Requirement already satisfied: MarkupSafe>=2.0 in /usr/local/lib/python3.12/dist-packages (from jinja2<4.0.0,>=3.1.4->instructor>=1.11.0->hands-on-ai) (3.0.3)\n",
            "Requirement already satisfied: anyio<5,>=3.5.0 in /usr/local/lib/python3.12/dist-packages (from openai<2.0.0,>=1.70.0->instructor>=1.11.0->hands-on-ai) (4.11.0)\n",
            "Requirement already satisfied: distro<2,>=1.7.0 in /usr/local/lib/python3.12/dist-packages (from openai<2.0.0,>=1.70.0->instructor>=1.11.0->hands-on-ai) (1.9.0)\n",
            "Requirement already satisfied: sniffio in /usr/local/lib/python3.12/dist-packages (from openai<2.0.0,>=1.70.0->instructor>=1.11.0->hands-on-ai) (1.3.1)\n",
            "Requirement already satisfied: tqdm>4 in /usr/local/lib/python3.12/dist-packages (from openai<2.0.0,>=1.70.0->instructor>=1.11.0->hands-on-ai) (4.67.1)\n",
            "Requirement already satisfied: httpcore==1.* in /usr/local/lib/python3.12/dist-packages (from httpx->python-fasthtml->hands-on-ai) (1.0.9)\n",
            "Requirement already satisfied: h11>=0.16 in /usr/local/lib/python3.12/dist-packages (from httpcore==1.*->httpx->python-fasthtml->hands-on-ai) (0.16.0)\n",
            "Requirement already satisfied: markdown-it-py>=2.2.0 in /usr/local/lib/python3.12/dist-packages (from rich<15.0.0,>=13.7.0->instructor>=1.11.0->hands-on-ai) (4.0.0)\n",
            "Requirement already satisfied: pygments<3.0.0,>=2.13.0 in /usr/local/lib/python3.12/dist-packages (from rich<15.0.0,>=13.7.0->instructor>=1.11.0->hands-on-ai) (2.19.2)\n",
            "Collecting httptools>=0.6.3 (from uvicorn[standard]>=0.30->python-fasthtml->hands-on-ai)\n",
            "  Downloading httptools-0.6.4-cp312-cp312-manylinux_2_5_x86_64.manylinux1_x86_64.manylinux_2_17_x86_64.manylinux2014_x86_64.whl.metadata (3.6 kB)\n",
            "Requirement already satisfied: python-dotenv>=0.13 in /usr/local/lib/python3.12/dist-packages (from uvicorn[standard]>=0.30->python-fasthtml->hands-on-ai) (1.1.1)\n",
            "Requirement already satisfied: pyyaml>=5.1 in /usr/local/lib/python3.12/dist-packages (from uvicorn[standard]>=0.30->python-fasthtml->hands-on-ai) (6.0.3)\n",
            "Collecting uvloop>=0.15.1 (from uvicorn[standard]>=0.30->python-fasthtml->hands-on-ai)\n",
            "  Downloading uvloop-0.21.0-cp312-cp312-manylinux_2_17_x86_64.manylinux2014_x86_64.whl.metadata (4.9 kB)\n",
            "Collecting watchfiles>=0.13 (from uvicorn[standard]>=0.30->python-fasthtml->hands-on-ai)\n",
            "  Downloading watchfiles-1.1.0-cp312-cp312-manylinux_2_17_x86_64.manylinux2014_x86_64.whl.metadata (4.9 kB)\n",
            "Requirement already satisfied: websockets>=10.4 in /usr/local/lib/python3.12/dist-packages (from uvicorn[standard]>=0.30->python-fasthtml->hands-on-ai) (15.0.1)\n",
            "Requirement already satisfied: soupsieve>1.2 in /usr/local/lib/python3.12/dist-packages (from beautifulsoup4->python-fasthtml->hands-on-ai) (2.8)\n",
            "Collecting apsw (from apswutils>=0.1.0->fastlite>=0.1.1->python-fasthtml->hands-on-ai)\n",
            "  Downloading apsw-3.50.4.0-cp312-cp312-manylinux_2_28_x86_64.whl.metadata (3.7 kB)\n",
            "Requirement already satisfied: mdurl~=0.1 in /usr/local/lib/python3.12/dist-packages (from markdown-it-py>=2.2.0->rich<15.0.0,>=13.7.0->instructor>=1.11.0->hands-on-ai) (0.1.2)\n",
            "Downloading fetch_my_weather-0.4.0-py3-none-any.whl (17 kB)\n",
            "Downloading hands_on_ai-0.2.1-py3-none-any.whl (143 kB)\n",
            "\u001b[2K   \u001b[90m━━━━━━━━━━━━━━━━━━━━━━━━━━━━━━━━━━━━━━━━\u001b[0m \u001b[32m143.7/143.7 kB\u001b[0m \u001b[31m4.6 MB/s\u001b[0m eta \u001b[36m0:00:00\u001b[0m\n",
            "\u001b[?25hDownloading instructor-1.11.3-py3-none-any.whl (155 kB)\n",
            "\u001b[2K   \u001b[90m━━━━━━━━━━━━━━━━━━━━━━━━━━━━━━━━━━━━━━━━\u001b[0m \u001b[32m155.5/155.5 kB\u001b[0m \u001b[31m8.3 MB/s\u001b[0m eta \u001b[36m0:00:00\u001b[0m\n",
            "\u001b[?25hDownloading pymupdf-1.26.4-cp39-abi3-manylinux_2_28_x86_64.whl (24.1 MB)\n",
            "\u001b[2K   \u001b[90m━━━━━━━━━━━━━━━━━━━━━━━━━━━━━━━━━━━━━━━━\u001b[0m \u001b[32m24.1/24.1 MB\u001b[0m \u001b[31m88.3 MB/s\u001b[0m eta \u001b[36m0:00:00\u001b[0m\n",
            "\u001b[?25hDownloading python_docx-1.2.0-py3-none-any.whl (252 kB)\n",
            "\u001b[2K   \u001b[90m━━━━━━━━━━━━━━━━━━━━━━━━━━━━━━━━━━━━━━━━\u001b[0m \u001b[32m253.0/253.0 kB\u001b[0m \u001b[31m16.0 MB/s\u001b[0m eta \u001b[36m0:00:00\u001b[0m\n",
            "\u001b[?25hDownloading python_fasthtml-0.12.29-py3-none-any.whl (71 kB)\n",
            "\u001b[2K   \u001b[90m━━━━━━━━━━━━━━━━━━━━━━━━━━━━━━━━━━━━━━━━\u001b[0m \u001b[32m71.0/71.0 kB\u001b[0m \u001b[31m5.1 MB/s\u001b[0m eta \u001b[36m0:00:00\u001b[0m\n",
            "\u001b[?25hDownloading diskcache-5.6.3-py3-none-any.whl (45 kB)\n",
            "\u001b[2K   \u001b[90m━━━━━━━━━━━━━━━━━━━━━━━━━━━━━━━━━━━━━━━━\u001b[0m \u001b[32m45.5/45.5 kB\u001b[0m \u001b[31m2.8 MB/s\u001b[0m eta \u001b[36m0:00:00\u001b[0m\n",
            "\u001b[?25hDownloading fastlite-0.2.1-py3-none-any.whl (17 kB)\n",
            "Downloading jiter-0.10.0-cp312-cp312-manylinux_2_17_x86_64.manylinux2014_x86_64.whl (352 kB)\n",
            "\u001b[2K   \u001b[90m━━━━━━━━━━━━━━━━━━━━━━━━━━━━━━━━━━━━━━━━\u001b[0m \u001b[32m352.0/352.0 kB\u001b[0m \u001b[31m25.2 MB/s\u001b[0m eta \u001b[36m0:00:00\u001b[0m\n",
            "\u001b[?25hDownloading apswutils-0.1.0-py3-none-any.whl (80 kB)\n",
            "\u001b[2K   \u001b[90m━━━━━━━━━━━━━━━━━━━━━━━━━━━━━━━━━━━━━━━━\u001b[0m \u001b[32m80.5/80.5 kB\u001b[0m \u001b[31m5.3 MB/s\u001b[0m eta \u001b[36m0:00:00\u001b[0m\n",
            "\u001b[?25hDownloading httptools-0.6.4-cp312-cp312-manylinux_2_5_x86_64.manylinux1_x86_64.manylinux_2_17_x86_64.manylinux2014_x86_64.whl (510 kB)\n",
            "\u001b[2K   \u001b[90m━━━━━━━━━━━━━━━━━━━━━━━━━━━━━━━━━━━━━━━━\u001b[0m \u001b[32m510.8/510.8 kB\u001b[0m \u001b[31m28.1 MB/s\u001b[0m eta \u001b[36m0:00:00\u001b[0m\n",
            "\u001b[?25hDownloading uvloop-0.21.0-cp312-cp312-manylinux_2_17_x86_64.manylinux2014_x86_64.whl (4.7 MB)\n",
            "\u001b[2K   \u001b[90m━━━━━━━━━━━━━━━━━━━━━━━━━━━━━━━━━━━━━━━━\u001b[0m \u001b[32m4.7/4.7 MB\u001b[0m \u001b[31m76.2 MB/s\u001b[0m eta \u001b[36m0:00:00\u001b[0m\n",
            "\u001b[?25hDownloading watchfiles-1.1.0-cp312-cp312-manylinux_2_17_x86_64.manylinux2014_x86_64.whl (452 kB)\n",
            "\u001b[2K   \u001b[90m━━━━━━━━━━━━━━━━━━━━━━━━━━━━━━━━━━━━━━━━\u001b[0m \u001b[32m452.2/452.2 kB\u001b[0m \u001b[31m20.9 MB/s\u001b[0m eta \u001b[36m0:00:00\u001b[0m\n",
            "\u001b[?25hDownloading apsw-3.50.4.0-cp312-cp312-manylinux_2_28_x86_64.whl (7.1 MB)\n",
            "\u001b[2K   \u001b[90m━━━━━━━━━━━━━━━━━━━━━━━━━━━━━━━━━━━━━━━━\u001b[0m \u001b[32m7.1/7.1 MB\u001b[0m \u001b[31m76.3 MB/s\u001b[0m eta \u001b[36m0:00:00\u001b[0m\n",
            "\u001b[?25hBuilding wheels for collected packages: pyinputplus, pysimplevalidate, stdiomask\n",
            "  Building wheel for pyinputplus (pyproject.toml) ... \u001b[?25l\u001b[?25hdone\n",
            "  Created wheel for pyinputplus: filename=pyinputplus-0.2.12-py3-none-any.whl size=11348 sha256=f5e3ff7d41d66d157232e5b8aa11b8e4298628eab588b16d713f45243ec664a0\n",
            "  Stored in directory: /root/.cache/pip/wheels/85/81/c1/325c8199c5c4de8a0b9af900ff9cd8bd69853e3d9419493512\n",
            "  Building wheel for pysimplevalidate (pyproject.toml) ... \u001b[?25l\u001b[?25hdone\n",
            "  Created wheel for pysimplevalidate: filename=pysimplevalidate-0.2.12-py3-none-any.whl size=16225 sha256=ace7506693724317c14e33b1bf0c8e99b61eba68bb36c6545551ce1584bb7ecd\n",
            "  Stored in directory: /root/.cache/pip/wheels/09/de/18/4dd2be0dbdf31870c6f0abde43b0de197b1c095655ad7da5c2\n",
            "  Building wheel for stdiomask (pyproject.toml) ... \u001b[?25l\u001b[?25hdone\n",
            "  Created wheel for stdiomask: filename=stdiomask-0.0.6-py3-none-any.whl size=3358 sha256=f805ed6c747ed6e08cfed82f5371912a7c63cfad8d570044877b4138b8251f00\n",
            "  Stored in directory: /root/.cache/pip/wheels/05/c7/e6/c66ff8c008b4d73f2db458feb4922075e7755853fe496e5135\n",
            "Successfully built pyinputplus pysimplevalidate stdiomask\n",
            "Installing collected packages: stdiomask, pysimplevalidate, uvloop, python-docx, pymupdf, pyinputplus, jiter, httptools, diskcache, apsw, watchfiles, apswutils, fetch-my-weather, fastlite, python-fasthtml, instructor, hands-on-ai\n",
            "  Attempting uninstall: jiter\n",
            "    Found existing installation: jiter 0.11.0\n",
            "    Uninstalling jiter-0.11.0:\n",
            "      Successfully uninstalled jiter-0.11.0\n",
            "Successfully installed apsw-3.50.4.0 apswutils-0.1.0 diskcache-5.6.3 fastlite-0.2.1 fetch-my-weather-0.4.0 hands-on-ai-0.2.1 httptools-0.6.4 instructor-1.11.3 jiter-0.10.0 pyinputplus-0.2.12 pymupdf-1.26.4 pysimplevalidate-0.2.12 python-docx-1.2.0 python-fasthtml-0.12.29 stdiomask-0.0.6 uvloop-0.21.0 watchfiles-1.1.0\n"
          ]
        }
      ]
    },
    {
      "cell_type": "code",
      "execution_count": 21,
      "id": "f1dd051e",
      "metadata": {
        "id": "f1dd051e",
        "colab": {
          "base_uri": "https://localhost:8080/"
        },
        "outputId": "cb6cdafe-cc76-4edc-840b-1bcb72e53a5c"
      },
      "outputs": [
        {
          "output_type": "stream",
          "name": "stdout",
          "text": [
            "Environment setup complete.\n",
            "Python version: 3.12.11\n",
            "Imports OK: requests, matplotlib, pyinputplus, re, json\n"
          ]
        }
      ],
      "source": [
        "# Core imports\n",
        "import requests                      # API calls to wttr.in\n",
        "import matplotlib.pyplot as plt      # Visualisations (line and bar charts)\n",
        "import pyinputplus as pyip           # Interactive CLI menu\n",
        "import re                            # Simple NLP parsing\n",
        "import json                          # Pretty-printing JSON (testing/debug)\n",
        "import sys                           # Environment/version checks\n",
        "\n",
        "# Jupyter display\n",
        "%matplotlib inline\n",
        "\n",
        "# Global constants (aligned with rubric and wttr.in capabilities)\n",
        "WTTR_BASE = \"https://wttr.in\"        # Base API URL\n",
        "DEFAULT_LOCATION = \"Perth\"           # Default city\n",
        "DEFAULT_FORECAST_DAYS = 3            # wttr.in JSON provides up to 3 days\n",
        "UNITS = \"m\"                          # \"m\" metric, \"u\" US, \"M\" metric + m/s wind\n",
        "\n",
        "# Environment check\n",
        "print(\"Environment setup complete.\")\n",
        "print(\"Python version:\", sys.version.split()[0])\n",
        "print(\"Imports OK: requests, matplotlib, pyinputplus, re, json\")"
      ]
    },
    {
      "cell_type": "markdown",
      "id": "f736ade3",
      "metadata": {
        "id": "f736ade3"
      },
      "source": [
        "## 🌤️ Weather Data Functions"
      ]
    },
    {
      "cell_type": "code",
      "execution_count": 1,
      "id": "7a2c7cd0",
      "metadata": {
        "id": "7a2c7cd0"
      },
      "outputs": [],
      "source": [
        "# Weather Data Functions — get_weather_data (with small TTL cache)\n",
        "\n",
        "import time\n",
        "import requests\n",
        "\n",
        "# Tiny in-memory TTL cache (bonus-friendly, keeps API calls down)\n",
        "class _TTLCache:\n",
        "    def __init__(self):\n",
        "        self._store = {}  # key -> (expires_at, value)\n",
        "    def get(self, key):\n",
        "        rec = self._store.get(key)\n",
        "        if not rec:\n",
        "            return None\n",
        "        expires_at, value = rec\n",
        "        if time.time() >= expires_at:\n",
        "            self._store.pop(key, None)\n",
        "            return None\n",
        "        return value\n",
        "    def set(self, key, value, ttl=600):\n",
        "        self._store[key] = (time.time() + ttl, value)\n",
        "\n",
        "WEATHER_CACHE = _TTLCache()\n",
        "_CACHE_TTL_SECONDS = 600  # 10 minutes\n",
        "\n",
        "def _safe_int(x, default=None):\n",
        "    try: return int(x)\n",
        "    except Exception: return default\n",
        "\n",
        "def _safe_float(x, default=None):\n",
        "    try: return float(x)\n",
        "    except Exception: return default\n",
        "\n",
        "def get_weather_data(location, forecast_days=3, units=\"m\"):\n",
        "    \"\"\"\n",
        "    Retrieve weather data for a specified location from wttr.in and normalise it.\n",
        "\n",
        "    Args:\n",
        "        location (str): City or location name.\n",
        "        forecast_days (int): 1–3 (wttr.in JSON provides up to 3 days).\n",
        "        units (str): \"m\" metric, \"u\" US, \"M\" metric + m/s wind.\n",
        "\n",
        "    Returns:\n",
        "        dict: {\n",
        "          \"location\": str,\n",
        "          \"current\": {...},\n",
        "          \"forecast\": [ {\"date\",\"min_c\",\"max_c\",\"chance_of_rain\",\"precip_mm\"}, ... ]\n",
        "        }\n",
        "        or {\"error\": \"...\"} on failure.\n",
        "    \"\"\"\n",
        "    if not location or not isinstance(location, str) or not location.strip():\n",
        "        return {\"error\": \"Please provide a valid location name.\"}\n",
        "    location = location.strip()\n",
        "\n",
        "    # Cap days to wttr.in limit\n",
        "    forecast_days = max(1, min(int(forecast_days), 3))\n",
        "\n",
        "    # Cache key\n",
        "    cache_key = (location.lower(), forecast_days, units)\n",
        "    cached = WEATHER_CACHE.get(cache_key)\n",
        "    if cached is not None:\n",
        "        return cached\n",
        "\n",
        "    base_url = f\"{WTTR_BASE}/{location}\" if \"WTTR_BASE\" in globals() else f\"https://wttr.in/{location}\"\n",
        "    params = {\"format\": \"j1\"}\n",
        "    if units in (\"m\", \"u\", \"M\"):\n",
        "        params[units] = \"\"\n",
        "\n",
        "    try:\n",
        "        resp = requests.get(\n",
        "            base_url,\n",
        "            params=params,\n",
        "            timeout=10,\n",
        "            headers={\"User-Agent\": \"Weather-Advisor/1.0 (Student Project)\", \"Accept\": \"application/json\"},\n",
        "        )\n",
        "        resp.raise_for_status()\n",
        "        data = resp.json()\n",
        "    except requests.exceptions.Timeout:\n",
        "        return {\"error\": \"The weather service took too long to respond. Please try again shortly.\"}\n",
        "    except requests.exceptions.ConnectionError:\n",
        "        return {\"error\": \"Network connection error while contacting the weather service.\"}\n",
        "    except requests.exceptions.HTTPError as e:\n",
        "        code = getattr(e.response, \"status_code\", \"Unknown\")\n",
        "        return {\"error\": f\"Weather service returned an HTTP error (status {code}).\"}\n",
        "    except requests.exceptions.RequestException:\n",
        "        return {\"error\": \"Unexpected network error occurred while fetching weather data.\"}\n",
        "    except ValueError:\n",
        "        return {\"error\": \"Invalid JSON response from wttr.in.\"}\n",
        "\n",
        "    # Current conditions\n",
        "    cc = (data.get(\"current_condition\") or [{}])[0]\n",
        "    current = {\n",
        "        \"temp_c\": _safe_int(cc.get(\"temp_C\")),\n",
        "        \"feels_like_c\": _safe_int(cc.get(\"FeelsLikeC\")),\n",
        "        \"condition\": ((cc.get(\"weatherDesc\") or [{}])[0].get(\"value\")) or \"N/A\",\n",
        "        \"humidity\": _safe_int(cc.get(\"humidity\")),\n",
        "        \"wind_kmph\": _safe_int(cc.get(\"windspeedKmph\")),\n",
        "        \"wind_dir\": cc.get(\"winddir16Point\") or \"\",\n",
        "        \"precip_mm\": _safe_float(cc.get(\"precipMM\"), 0.0),\n",
        "        \"uv_index\": _safe_int(cc.get(\"uvIndex\")),\n",
        "    }\n",
        "\n",
        "    # Forecast (up to 3 days)\n",
        "    forecast_list = []\n",
        "    for day in (data.get(\"weather\") or [])[:forecast_days]:\n",
        "        hourly = day.get(\"hourly\") or []\n",
        "        chance_of_rain = max((_safe_int(h.get(\"chanceofrain\"), 0) for h in hourly), default=0)\n",
        "        total_precip = sum((_safe_float(h.get(\"precipMM\"), 0.0) for h in hourly))\n",
        "        forecast_list.append({\n",
        "            \"date\": day.get(\"date\"),\n",
        "            \"min_c\": _safe_int(day.get(\"mintempC\")),\n",
        "            \"max_c\": _safe_int(day.get(\"maxtempC\")),\n",
        "            \"chance_of_rain\": chance_of_rain,\n",
        "            \"precip_mm\": round(total_precip, 1),\n",
        "        })\n",
        "\n",
        "    if not forecast_list:\n",
        "        return {\"error\": \"No forecast data returned for this location.\"}\n",
        "\n",
        "    result = {\"location\": location, \"current\": current, \"forecast\": forecast_list}\n",
        "\n",
        "    # Cache store\n",
        "    WEATHER_CACHE.set(cache_key, result, ttl=_CACHE_TTL_SECONDS)\n",
        "    return result\n"
      ]
    },
    {
      "cell_type": "code",
      "source": [
        "# Test the get_weather_data() function (3-day forecast from wttr.in)\n",
        "\n",
        "import json\n",
        "\n",
        "weather_data = get_weather_data(\"Perth\", forecast_days=3, units=\"m\")\n",
        "\n",
        "print(\"Weather Data (3-Day Forecast):\")\n",
        "print(json.dumps(weather_data, indent=2))\n"
      ],
      "metadata": {
        "id": "hGqfw4nuQpZ9",
        "colab": {
          "base_uri": "https://localhost:8080/"
        },
        "outputId": "5d80096f-80cb-4df8-8d3b-0ca93b57508f"
      },
      "id": "hGqfw4nuQpZ9",
      "execution_count": 2,
      "outputs": [
        {
          "output_type": "stream",
          "name": "stdout",
          "text": [
            "Weather Data (3-Day Forecast):\n",
            "{\n",
            "  \"location\": \"Perth\",\n",
            "  \"current\": {\n",
            "    \"temp_c\": 23,\n",
            "    \"feels_like_c\": 25,\n",
            "    \"condition\": \"Shower in vicinity\",\n",
            "    \"humidity\": 57,\n",
            "    \"wind_kmph\": 30,\n",
            "    \"wind_dir\": \"NW\",\n",
            "    \"precip_mm\": 0.4,\n",
            "    \"uv_index\": 8\n",
            "  },\n",
            "  \"forecast\": [\n",
            "    {\n",
            "      \"date\": \"2025-10-04\",\n",
            "      \"min_c\": 15,\n",
            "      \"max_c\": 21,\n",
            "      \"chance_of_rain\": 100,\n",
            "      \"precip_mm\": 4.4\n",
            "    },\n",
            "    {\n",
            "      \"date\": \"2025-10-05\",\n",
            "      \"min_c\": 12,\n",
            "      \"max_c\": 16,\n",
            "      \"chance_of_rain\": 100,\n",
            "      \"precip_mm\": 1.5\n",
            "    },\n",
            "    {\n",
            "      \"date\": \"2025-10-06\",\n",
            "      \"min_c\": 10,\n",
            "      \"max_c\": 19,\n",
            "      \"chance_of_rain\": 0,\n",
            "      \"precip_mm\": 0.0\n",
            "    }\n",
            "  ]\n",
            "}\n"
          ]
        }
      ]
    },
    {
      "cell_type": "markdown",
      "id": "8a744fdc",
      "metadata": {
        "id": "8a744fdc"
      },
      "source": [
        "## 📊 Visualisation Functions"
      ]
    },
    {
      "cell_type": "code",
      "execution_count": 22,
      "id": "9dc3bf85",
      "metadata": {
        "id": "9dc3bf85",
        "colab": {
          "base_uri": "https://localhost:8080/",
          "height": 487
        },
        "outputId": "3a1f069b-55fb-446c-b8e8-61cd8552e7b3"
      },
      "outputs": [
        {
          "output_type": "display_data",
          "data": {
            "text/plain": [
              "<Figure size 640x480 with 1 Axes>"
            ],
            "image/png": "[encoded data removed]"
          },
          "metadata": {}
        }
      ],
      "source": [
        "# Define create_temperature_visualisation() — minimal, rubric-friendly\n",
        "\n",
        "import matplotlib.pyplot as plt\n",
        "\n",
        "def create_temperature_visualisation(weather_data, output_type='display'):\n",
        "    \"\"\"\n",
        "    Create visualisation of temperature data (min/max °C line chart).\n",
        "    \"\"\"\n",
        "    # Basic validation\n",
        "    if not isinstance(weather_data, dict):\n",
        "        raise TypeError(\"weather_data must be a dict as returned by get_weather_data().\")\n",
        "    if \"error\" in weather_data:\n",
        "        print(weather_data[\"error\"]); return None\n",
        "    if \"forecast\" not in weather_data or not weather_data[\"forecast\"]:\n",
        "        print(\"No forecast data available to plot.\"); return None\n",
        "\n",
        "    # Extract series (with safe numeric casting)\n",
        "    dates = [str(d.get(\"date\", \"\")) for d in weather_data[\"forecast\"]]\n",
        "    mins  = []\n",
        "    maxs  = []\n",
        "    for d in weather_data[\"forecast\"]:\n",
        "        mn = d.get(\"min_c\"); mx = d.get(\"max_c\")\n",
        "        try: mn = float(mn) if mn is not None else None\n",
        "        except: mn = None\n",
        "        try: mx = float(mx) if mx is not None else None\n",
        "        except: mx = None\n",
        "        mins.append(mn); maxs.append(mx)\n",
        "\n",
        "    # Build figure\n",
        "    fig = plt.figure()\n",
        "    ax = fig.add_subplot(111)\n",
        "    ax.plot(dates, maxs, marker=\"o\", label=\"Max Temp (°C)\")\n",
        "    ax.plot(dates, mins, marker=\"o\", label=\"Min Temp (°C)\")\n",
        "\n",
        "    ax.set_title(f\"Temperature Forecast — {weather_data.get('location','')}\")\n",
        "    ax.set_xlabel(\"Date\")\n",
        "    ax.set_ylabel(\"Temperature (°C)\")\n",
        "    ax.grid(True)\n",
        "    ax.legend()\n",
        "\n",
        "    # Readability\n",
        "    plt.xticks(rotation=25)\n",
        "    plt.tight_layout()\n",
        "\n",
        "    if output_type == 'figure':\n",
        "        return fig\n",
        "    plt.show(); plt.close(fig); return None\n",
        "\n",
        "    # Show the temperature chart below\n",
        "\n",
        "wd = get_weather_data(\"Perth\", forecast_days=3, units=\"m\")\n",
        "fig = create_temperature_visualisation(wd, output_type='figure')\n",
        "if fig:\n",
        "    plt.figure(fig.number)\n",
        "    plt.show()"
      ]
    },
    {
      "cell_type": "code",
      "source": [
        "# Define create_precipitation_visualisation() here\n",
        "\n",
        "import matplotlib.pyplot as plt\n",
        "\n",
        "def create_precipitation_visualisation(weather_data, output_type='display'):\n",
        "    \"\"\"\n",
        "    Create visualisation of precipitation data (Chance of Rain % bar chart).\n",
        "\n",
        "    Args:\n",
        "        weather_data (dict): The processed weather data from get_weather_data()\n",
        "        output_type (str): Either 'display' to show in notebook or 'figure' to return the figure\n",
        "\n",
        "    Returns:\n",
        "        If output_type is 'figure', returns the matplotlib Figure object.\n",
        "        Otherwise, displays the visualisation in the notebook and returns None.\n",
        "    \"\"\"\n",
        "    # Basic validation\n",
        "    if not isinstance(weather_data, dict):\n",
        "        raise TypeError(\"weather_data must be a dict as returned by get_weather_data().\")\n",
        "    if \"error\" in weather_data:\n",
        "        print(weather_data[\"error\"]); return None\n",
        "    if \"forecast\" not in weather_data or not weather_data[\"forecast\"]:\n",
        "        print(\"No forecast data available to plot.\"); return None\n",
        "\n",
        "    # Extract series (safe casting + clamp 0..100)\n",
        "    dates = [str(d.get(\"date\", \"\")) for d in weather_data[\"forecast\"]]\n",
        "    chances = []\n",
        "    for d in weather_data[\"forecast\"]:\n",
        "        v = d.get(\"chance_of_rain\", 0) or 0\n",
        "        try:\n",
        "            v = int(v)\n",
        "        except Exception:\n",
        "            v = 0\n",
        "        chances.append(max(0, min(v, 100)))\n",
        "\n",
        "    # Build figure\n",
        "    fig = plt.figure()\n",
        "    ax = fig.add_subplot(111)\n",
        "    ax.bar(dates, chances)\n",
        "\n",
        "    # Titles/labels/legend/grid (rubric)\n",
        "    ax.set_title(f\"Chance of Rain — {weather_data.get('location','')}\")\n",
        "    ax.set_xlabel(\"Date\")\n",
        "    ax.set_ylabel(\"Chance of Rain (%)\")\n",
        "    ax.set_ylim(0, 100)\n",
        "    ax.grid(axis='y')\n",
        "    ax.legend([\"Chance of Rain (%)\"])\n",
        "\n",
        "    # Readability\n",
        "    plt.xticks(rotation=25)\n",
        "    plt.tight_layout()\n",
        "\n",
        "    if output_type == 'figure':\n",
        "        return fig\n",
        "    plt.show(); plt.close(fig); return None\n",
        "\n",
        "wd = get_weather_data(\"Perth\", forecast_days=3, units=\"m\")\n",
        "fig = create_precipitation_visualisation(wd, output_type='figure')\n",
        "if fig:\n",
        "    plt.figure(fig.number)\n",
        "    plt.show()"
      ],
      "metadata": {
        "id": "HpOlQylYG5Ho",
        "colab": {
          "base_uri": "https://localhost:8080/",
          "height": 487
        },
        "outputId": "1434b52d-76fc-4169-addf-c16c8d08e6e6"
      },
      "id": "HpOlQylYG5Ho",
      "execution_count": 23,
      "outputs": [
        {
          "output_type": "display_data",
          "data": {
            "text/plain": [
              "<Figure size 640x480 with 1 Axes>"
            ],
            "image/png": "[encoded data removed]"
          },
          "metadata": {}
        }
      ]
    },
    {
      "cell_type": "markdown",
      "id": "9f95d160",
      "metadata": {
        "id": "9f95d160"
      },
      "source": [
        "## 🤖 Natural Language Processing"
      ]
    },
    {
      "cell_type": "code",
      "execution_count": 15,
      "id": "bcc5833e",
      "metadata": {
        "id": "bcc5833e"
      },
      "outputs": [],
      "source": [
        "# Natural Language Processing — minimal fixes applied to your version\n",
        "\n",
        "import re\n",
        "\n",
        "# --- Internal helpers for NLP ---\n",
        "\n",
        "_ATTR_ALIASES = {\n",
        "    \"rain\": [\"rain\", \"precip\", \"precipitation\", \"shower\", \"wet\"],\n",
        "    \"temperature\": [\"temp\", \"temperature\", \"hot\", \"cold\", \"warm\", \"cool\", \"heat\"],\n",
        "    \"wind\": [\"wind\", \"breeze\", \"gust\"],\n",
        "    \"humidity\": [\"humidity\", \"humid\"],\n",
        "}\n",
        "\n",
        "def _detect_attribute(q: str) -> str | None:\n",
        "    ql = q.lower()\n",
        "    for key, words in _ATTR_ALIASES.items():\n",
        "        if any(w in ql for w in words):\n",
        "            return key\n",
        "    return None\n",
        "\n",
        "def _detect_days_and_when(q: str) -> tuple[int, str]:\n",
        "    \"\"\"\n",
        "    Returns (days, when_label)\n",
        "      when_label in {\"today\",\"tomorrow\",\"next\"}\n",
        "      days is clamped to 1..3 (wttr.in returns up to 3 days)\n",
        "    \"\"\"\n",
        "    ql = q.lower()\n",
        "    if \"today\" in ql:\n",
        "        return (1, \"today\")\n",
        "    if \"tomorrow\" in ql:\n",
        "        return (2, \"tomorrow\")  # ensures index 1 is available in responder\n",
        "\n",
        "    # Allow \"next N day\" or \"next N days\"\n",
        "    m = re.search(r\"\\bnext\\s+(\\d+)\\s+day(?:s)?\\b\", ql)\n",
        "    if m:\n",
        "        n = int(m.group(1))\n",
        "        return (max(1, min(n, 3)), \"next\")\n",
        "\n",
        "    # default window\n",
        "    return (3, \"next\")\n",
        "\n",
        "def _detect_location(q: str, fallback: str | None = None) -> str | None:\n",
        "    \"\"\"\n",
        "    Extract a simple location after 'in' or 'for'.\n",
        "    Example: 'Will it rain tomorrow in Perth?' -> 'Perth'\n",
        "    \"\"\"\n",
        "    m = re.search(r\"\\b(?:in|for)\\s+([A-Za-z][A-Za-z\\s,.'-]{1,48})\\b\", q, re.IGNORECASE)\n",
        "    if m:\n",
        "        return m.group(1).strip()\n",
        "    return fallback\n",
        "\n",
        "# --- Public API ---\n",
        "\n",
        "def parse_weather_question(question: str, default_location: str | None = None) -> dict:\n",
        "    \"\"\"\n",
        "    Parse a natural-language weather question into structured intent.\n",
        "\n",
        "    Returns:\n",
        "        dict with keys:\n",
        "          \"location\": str|None,\n",
        "          \"days\": int (1..3),\n",
        "          \"attribute\": \"rain\"|\"temperature\"|\"wind\"|\"humidity\"|None,\n",
        "          \"when\": \"today\"|\"tomorrow\"|\"next\"\n",
        "    \"\"\"\n",
        "    if not question or not isinstance(question, str):\n",
        "        return {\"error\": \"Please provide a question string.\"}\n",
        "\n",
        "    attribute = _detect_attribute(question)\n",
        "    days, when = _detect_days_and_when(question)\n",
        "    # Use provided default or global DEFAULT_LOCATION if available\n",
        "    fallback_loc = default_location or globals().get(\"DEFAULT_LOCATION\")\n",
        "    location = _detect_location(question, fallback=fallback_loc)\n",
        "\n",
        "    # Clamp defensively\n",
        "    days = max(1, min(int(days), 3))\n",
        "\n",
        "    return {\"location\": location, \"days\": days, \"attribute\": attribute, \"when\": when}\n",
        "\n",
        "def generate_weather_response(parsed: dict, weather_data: dict) -> str:\n",
        "    \"\"\"\n",
        "    Generate a concise, human-readable answer from parsed intent and weather data.\n",
        "    \"\"\"\n",
        "    if not parsed or (\"error\" in parsed):\n",
        "        return parsed.get(\"error\", \"I couldn't understand the question.\")\n",
        "    if not weather_data or (\"error\" in weather_data):\n",
        "        return weather_data.get(\"error\", \"I couldn't retrieve weather data.\")\n",
        "\n",
        "    loc = weather_data.get(\"location\") or parsed.get(\"location\") or \"the requested location\"\n",
        "    when = parsed.get(\"when\", \"next\")\n",
        "    attr = parsed.get(\"attribute\")\n",
        "\n",
        "    fcast = weather_data.get(\"forecast\", [])\n",
        "    if not fcast:\n",
        "        return f\"No forecast data available for {loc}.\"\n",
        "\n",
        "    # Select forecast window\n",
        "    if when == \"today\":\n",
        "        window = fcast[:1]\n",
        "    elif when == \"tomorrow\":\n",
        "        window = fcast[1:2] if len(fcast) >= 2 else fcast[:1]\n",
        "    else:\n",
        "        window = fcast[:max(1, min(parsed.get(\"days\", len(fcast)), len(fcast)))]\n",
        "\n",
        "    # Aggregations (defensive)\n",
        "    def _min_val(k):\n",
        "        vals = [d.get(k) for d in window if d.get(k) is not None]\n",
        "        return min(vals) if vals else None\n",
        "\n",
        "    def _max_val(k):\n",
        "        vals = [d.get(k) for d in window if d.get(k) is not None]\n",
        "        return max(vals) if vals else None\n",
        "\n",
        "    def _sum_val(k):\n",
        "        vals = [d.get(k) or 0 for d in window]\n",
        "        return sum(vals) if vals else 0\n",
        "\n",
        "    hi = _max_val(\"max_c\")\n",
        "    lo = _min_val(\"min_c\")\n",
        "    rainp = _max_val(\"chance_of_rain\")\n",
        "    precip = _sum_val(\"precip_mm\")\n",
        "\n",
        "    # Attribute-specific responses\n",
        "    if attr == \"rain\":\n",
        "        if len(window) == 1:\n",
        "            d0 = window[0].get(\"date\", \"the day\")\n",
        "            rp = window[0].get(\"chance_of_rain\")\n",
        "            pm = window[0].get(\"precip_mm\")\n",
        "            rp_txt = f\"{rp}%\" if rp is not None else \"unknown\"\n",
        "            pm_txt = f\"{pm} mm\" if pm is not None else \"unknown\"\n",
        "            return f\"In {loc} ({d0}), chance of rain is {rp_txt}, expected precipitation {pm_txt}.\"\n",
        "        rp_txt = f\"{rainp}%\" if rainp is not None else \"unknown\"\n",
        "        return (f\"In {loc} over the next {len(window)} day(s), the maximum chance of rain is \"\n",
        "                f\"{rp_txt} with a total of {precip:.1f} mm expected.\")\n",
        "\n",
        "    if attr == \"temperature\":\n",
        "        if len(window) == 1:\n",
        "            d0 = window[0].get(\"date\", \"the day\")\n",
        "            return f\"In {loc} ({d0}), expect a high near {hi}°C and a low around {lo}°C.\"\n",
        "        return (f\"In {loc} over the next {len(window)} day(s), highs up to ~{hi}°C \"\n",
        "                f\"and lows down to ~{lo}°C.\")\n",
        "\n",
        "    if attr == \"wind\":\n",
        "        c = weather_data.get(\"current\", {})\n",
        "        ws = c.get(\"wind_kmph\")\n",
        "        wd = c.get(\"wind_dir\", \"\")\n",
        "        if ws is not None:\n",
        "            return f\"In {loc} {when}, current winds are about {ws} km/h {wd}.\"\n",
        "        return f\"In {loc} {when}, wind information is not available.\"\n",
        "\n",
        "    if attr == \"humidity\":\n",
        "        c = weather_data.get(\"current\", {})\n",
        "        h = c.get(\"humidity\")\n",
        "        if h is not None:\n",
        "            return f\"In {loc} {when}, current humidity is approximately {h}%.\"\n",
        "        return f\"In {loc} {when}, humidity information is not available.\"\n",
        "\n",
        "    # Generic fallback\n",
        "    cond = (weather_data.get(\"current\") or {}).get(\"condition\", \"\").lower() or \"current conditions\"\n",
        "    if len(window) == 1:\n",
        "        d0 = window[0].get(\"date\", \"the day\")\n",
        "        return (f\"In {loc} ({d0}), it is {cond} with a high near {hi}°C, low around {lo}°C, \"\n",
        "                f\"and up to {rainp if rainp is not None else 'unknown'}% chance of rain (≈{precip:.1f} mm total).\")\n",
        "    return (f\"In {loc} over the next {len(window)} day(s), expect {cond}, highs up to ~{hi}°C, \"\n",
        "            f\"lows near ~{lo}°C, and up to {rainp if rainp is not None else 'unknown'}% chance of rain (≈{precip:.1f} mm total).\")\n"
      ]
    },
    {
      "cell_type": "markdown",
      "id": "0d85225e",
      "metadata": {
        "id": "0d85225e"
      },
      "source": [
        "## 🧭 User Interface"
      ]
    },
    {
      "cell_type": "code",
      "execution_count": 26,
      "id": "fa6cb0f6",
      "metadata": {
        "id": "fa6cb0f6"
      },
      "outputs": [],
      "source": [
        "# User Interface\n",
        "# --------------\n",
        "\n",
        "import pyinputplus as pyip\n",
        "\n",
        "def _print_welcome(app_name=\"Weather Advisor\", user_name=None, location=None, units=\"m\", forecast_days=3):\n",
        "    title = f\"🌤️  Welcome to {app_name}\" if not user_name else f\"🌤️  Welcome to {app_name}, {user_name}\"\n",
        "    print(\"\\n\" + title)\n",
        "    print(\"=\" * len(title))\n",
        "    unit_label = {\"m\": \"Metric (°C, km/h)\", \"u\": \"US (°F, mph)\", \"M\": \"Metric (°C, m/s)\"}.get(units, units)\n",
        "    parts = []\n",
        "    if location:\n",
        "        parts.append(f\"Location: {location}\")\n",
        "    parts.append(f\"Units: {unit_label}\")\n",
        "    parts.append(f\"Forecast days: {forecast_days}\")\n",
        "    print(\" | \".join(parts) + \"\\n\")\n",
        "\n",
        "def _print_current(weather_data: dict) -> None:\n",
        "    if not isinstance(weather_data, dict) or \"error\" in weather_data:\n",
        "        print(weather_data.get(\"error\", \"No data available.\"))\n",
        "        return\n",
        "    cur = weather_data.get(\"current\", {}) or {}\n",
        "    print(f\"\\nCurrent weather — {weather_data.get('location','')}\")\n",
        "    print(f\"  Condition : {cur.get('condition','N/A')}\")\n",
        "    print(f\"  Temp      : {cur.get('temp_c','?')}°C (feels {cur.get('feels_like_c','?')}°C)\")\n",
        "    print(f\"  Humidity  : {cur.get('humidity','?')}%\")\n",
        "    print(f\"  Wind      : {cur.get('wind_kmph','?')} km/h {cur.get('wind_dir','')}\")\n",
        "    print(f\"  Precip    : {cur.get('precip_mm','?')} mm\")\n",
        "    print(f\"  UV Index  : {cur.get('uv_index','?')}\\n\")\n",
        "\n",
        "def _print_forecast(weather_data: dict) -> None:\n",
        "    if not isinstance(weather_data, dict) or \"error\" in weather_data:\n",
        "        print(weather_data.get(\"error\", \"No data available.\"))\n",
        "        return\n",
        "    rows = weather_data.get(\"forecast\", []) or []\n",
        "    if not rows:\n",
        "        print(\"No forecast data available.\")\n",
        "        return\n",
        "    print(f\"\\nForecast — {weather_data.get('location','')}\")\n",
        "    print(\"  Date         Min °C   Max °C   Rain%   Precip (mm)\")\n",
        "    print(\"  ---------------------------------------------------\")\n",
        "    for d in rows:\n",
        "        date = str(d.get('date','YYYY-MM-DD')).ljust(12)\n",
        "        mn   = str(d.get('min_c','?')).rjust(6)\n",
        "        mx   = str(d.get('max_c','?')).rjust(8)\n",
        "        rp   = str(d.get('chance_of_rain','?')).rjust(7)\n",
        "        mm   = str(d.get('precip_mm','?')).rjust(12)\n",
        "        print(f\"  {date}{mn}{mx}{rp}{mm}\")\n",
        "    print(\"\")\n",
        "\n",
        "def main_menu(default_location: str = \"Perth\") -> None:\n",
        "    \"\"\"\n",
        "    Interactive CLI menu for Weather Advisor.\n",
        "    Requires:\n",
        "      - get_weather_data()\n",
        "      - create_temperature_visualisation()\n",
        "      - create_precipitation_visualisation()\n",
        "      - parse_weather_question()\n",
        "      - generate_weather_response()\n",
        "    \"\"\"\n",
        "    location = (default_location or globals().get(\"DEFAULT_LOCATION\") or \"Perth\").strip()\n",
        "    units = (globals().get(\"UNITS\") or \"m\")\n",
        "    forecast_days = 3  # wttr.in returns up to 3 days\n",
        "\n",
        "    user_name = pyip.inputStr(\"Enter your name (optional, press Enter to skip): \", blank=True)\n",
        "    _print_welcome(user_name=(user_name or None), location=location, units=units, forecast_days=forecast_days)\n",
        "\n",
        "    while True:\n",
        "        choice = pyip.inputMenu(\n",
        "            [\n",
        "                \"Set/Change location\",\n",
        "                \"Show current conditions\",\n",
        "                \"Show forecast + charts\",\n",
        "                \"Ask a weather question\",\n",
        "                \"Settings\",\n",
        "                \"Exit\",\n",
        "            ],\n",
        "            numbered=True\n",
        "        )\n",
        "\n",
        "        if choice == \"Set/Change location\":\n",
        "            loc = pyip.inputStr(\"Enter city/suburb (e.g., Perth): \").strip()\n",
        "            if loc:\n",
        "                location = loc\n",
        "                print(f\"Location set to: {location}\")\n",
        "                _print_welcome(user_name=(user_name or None), location=location, units=units, forecast_days=forecast_days)\n",
        "            else:\n",
        "                print(\"Location unchanged.\")\n",
        "\n",
        "        elif choice == \"Show current conditions\":\n",
        "            data = get_weather_data(location, forecast_days=1, units=units)\n",
        "            _print_current(data)\n",
        "\n",
        "        elif choice == \"Show forecast + charts\":\n",
        "            data = get_weather_data(location, forecast_days=forecast_days, units=units)\n",
        "            if isinstance(data, dict) and \"error\" not in data:\n",
        "                _print_forecast(data)\n",
        "                create_temperature_visualisation(data)\n",
        "                create_precipitation_visualisation(data)\n",
        "            else:\n",
        "                print(data.get(\"error\", data))\n",
        "\n",
        "        elif choice == \"Ask a weather question\":\n",
        "            q = pyip.inputStr(\"Enter your question (e.g., 'Will it rain tomorrow in Perth?'): \").strip()\n",
        "            if not q:\n",
        "                print(\"Please enter a question.\")\n",
        "                continue\n",
        "            parsed = parse_weather_question(q, default_location=location)\n",
        "            loc_for_query = parsed.get(\"location\") or location\n",
        "            days_for_query = parsed.get(\"days\", 3)\n",
        "            data = get_weather_data(loc_for_query, forecast_days=days_for_query, units=units)\n",
        "            print(\"\\n\" + generate_weather_response(parsed, data) + \"\\n\")\n",
        "\n",
        "        elif choice == \"Settings\":\n",
        "            units_choice = pyip.inputMenu(\n",
        "                [\"m (metric °C, km/h)\", \"u (US °F, mph)\", \"M (metric+wind m/s)\"],\n",
        "                numbered=True\n",
        "            )\n",
        "            units = units_choice.split()[0]\n",
        "            forecast_days = pyip.inputInt(\"Forecast days (1–3): \", min=1, max=3)\n",
        "            print(f\"Units set to: {units} | Forecast days set to: {forecast_days}\")\n",
        "            _print_welcome(user_name=(user_name or None), location=location, units=units, forecast_days=forecast_days)\n",
        "\n",
        "        else:  # Exit\n",
        "            print(\"Exiting Weather Advisor.\")\n",
        "            break"
      ]
    },
    {
      "cell_type": "code",
      "source": [
        "# To start the interactive menu, run:\n",
        "main_menu(\"Perth\")"
      ],
      "metadata": {
        "id": "PMgJ-KkQX8Gf",
        "colab": {
          "base_uri": "https://localhost:8080/",
          "height": 1000
        },
        "outputId": "594d4303-b9c1-4694-e8e2-0b81efa3cf44"
      },
      "id": "PMgJ-KkQX8Gf",
      "execution_count": 27,
      "outputs": [
        {
          "output_type": "stream",
          "name": "stdout",
          "text": [
            "Enter your name (optional, press Enter to skip): Maliha\n",
            "\n",
            "🌤️  Welcome to Weather Advisor, Maliha\n",
            "======================================\n",
            "Location: Perth | Units: Metric (°C, km/h) | Forecast days: 3\n",
            "\n",
            "Please select one of the following:\n",
            "1. Set/Change location\n",
            "2. Show current conditions\n",
            "3. Show forecast + charts\n",
            "4. Ask a weather question\n",
            "5. Settings\n",
            "6. Exit\n",
            "1\n",
            "Enter city/suburb (e.g., Perth): Cannington\n",
            "Location set to: Cannington\n",
            "\n",
            "🌤️  Welcome to Weather Advisor, Maliha\n",
            "======================================\n",
            "Location: Cannington | Units: Metric (°C, km/h) | Forecast days: 3\n",
            "\n",
            "Please select one of the following:\n",
            "1. Set/Change location\n",
            "2. Show current conditions\n",
            "3. Show forecast + charts\n",
            "4. Ask a weather question\n",
            "5. Settings\n",
            "6. Exit\n",
            "3\n",
            "\n",
            "Forecast — Cannington\n",
            "  Date         Min °C   Max °C   Rain%   Precip (mm)\n",
            "  ---------------------------------------------------\n",
            "  2025-10-04      13      21    100         3.5\n",
            "  2025-10-05      11      16    100         0.3\n",
            "  2025-10-06      10      21      0         0.0\n",
            "\n"
          ]
        },
        {
          "output_type": "display_data",
          "data": {
            "text/plain": [
              "<Figure size 640x480 with 1 Axes>"
            ],
            "image/png": "[encoded data removed]"
          },
          "metadata": {}
        },
        {
          "output_type": "display_data",
          "data": {
            "text/plain": [
              "<Figure size 640x480 with 1 Axes>"
            ],
            "image/png": "[encoded data removed]"
          },
          "metadata": {}
        },
        {
          "output_type": "stream",
          "name": "stdout",
          "text": [
            "Please select one of the following:\n",
            "1. Set/Change location\n",
            "2. Show current conditions\n",
            "3. Show forecast + charts\n",
            "4. Ask a weather question\n",
            "5. Settings\n",
            "6. Exit\n",
            "4\n",
            "Enter your question (e.g., 'Will it rain tomorrow in Perth?'): Will it be sunny tomorrow?\n",
            "\n",
            "In Cannington (2025-10-05), it is light rain with a high near 16°C, low around 11°C, and up to 100% chance of rain (≈0.3 mm total).\n",
            "\n",
            "Please select one of the following:\n",
            "1. Set/Change location\n",
            "2. Show current conditions\n",
            "3. Show forecast + charts\n",
            "4. Ask a weather question\n",
            "5. Settings\n",
            "6. Exit\n",
            "Thanks.\n",
            "'Thanks.' is not a valid choice.\n",
            "Please select one of the following:\n",
            "1. Set/Change location\n",
            "2. Show current conditions\n",
            "3. Show forecast + charts\n",
            "4. Ask a weather question\n",
            "5. Settings\n",
            "6. Exit\n",
            "6\n",
            "Exiting Weather Advisor.\n"
          ]
        }
      ]
    },
    {
      "cell_type": "markdown",
      "id": "d643a53c",
      "metadata": {
        "id": "d643a53c"
      },
      "source": [
        "## 🧩 Main Application Logic"
      ]
    },
    {
      "cell_type": "code",
      "execution_count": 29,
      "id": "a9e2e805",
      "metadata": {
        "id": "a9e2e805"
      },
      "outputs": [],
      "source": [
        "def generate_weather_response(parsed_question, weather_data):\n",
        "    \"\"\"\n",
        "    Generate a natural language response from parsed intent and normalised weather data.\n",
        "    \"\"\"\n",
        "    # Basic validation\n",
        "    if not isinstance(parsed_question, dict) or not parsed_question:\n",
        "        return \"I couldn't understand the question.\"\n",
        "    if not isinstance(weather_data, dict) or \"error\" in weather_data:\n",
        "        return weather_data.get(\"error\", \"Sorry, I couldn't retrieve weather data.\")\n",
        "\n",
        "    loc = weather_data.get(\"location\") or parsed_question.get(\"location\") or \"the requested location\"\n",
        "    when = parsed_question.get(\"when\", \"next\")\n",
        "    attr = parsed_question.get(\"attribute\")\n",
        "\n",
        "    forecast = weather_data.get(\"forecast\") or []\n",
        "    if not forecast:\n",
        "        return f\"No forecast data available for {loc}.\"\n",
        "\n",
        "    # Select the time window\n",
        "    if when == \"today\":\n",
        "        window = forecast[:1]\n",
        "    elif when == \"tomorrow\":\n",
        "        window = forecast[1:2] if len(forecast) >= 2 else forecast[:1]\n",
        "    else:  # \"next\" or unspecified\n",
        "        n = parsed_question.get(\"days\", len(forecast))\n",
        "        window = forecast[:max(1, min(n, len(forecast)))]\n",
        "\n",
        "    # Aggregation helpers\n",
        "    def _vals(key):\n",
        "        return [d.get(key) for d in window if d.get(key) is not None]\n",
        "\n",
        "    def _min(key):\n",
        "        v = _vals(key);  return min(v) if v else None\n",
        "\n",
        "    def _max(key):\n",
        "        v = _vals(key);  return max(v) if v else None\n",
        "\n",
        "    def _sum(key):\n",
        "        return sum((d.get(key) or 0) for d in window)\n",
        "\n",
        "    hi = _max(\"max_c\")\n",
        "    lo = _min(\"min_c\")\n",
        "    rainp_max = _max(\"chance_of_rain\")\n",
        "    precip_sum = _sum(\"precip_mm\")\n",
        "\n",
        "    # Attribute-specific responses\n",
        "    if attr == \"rain\":\n",
        "        if len(window) == 1:\n",
        "            d0 = window[0].get(\"date\", \"the day\")\n",
        "            rp = window[0].get(\"chance_of_rain\")\n",
        "            pm = window[0].get(\"precip_mm\")\n",
        "            rp_txt = f\"{rp}%\" if rp is not None else \"unknown\"\n",
        "            pm_txt = f\"{pm:.1f} mm\" if isinstance(pm, (int, float)) else \"unknown\"\n",
        "            return f\"In {loc} ({d0}), chance of rain is {rp_txt}, expected precipitation {pm_txt}.\"\n",
        "        rp_txt = f\"{rainp_max}%\" if rainp_max is not None else \"unknown\"\n",
        "        return (f\"In {loc} over the next {len(window)} day(s), the maximum chance of rain is \"\n",
        "                f\"{rp_txt} with a total of {precip_sum:.1f} mm expected.\")\n",
        "\n",
        "    if attr == \"temperature\":\n",
        "        if len(window) == 1:\n",
        "            d0 = window[0].get(\"date\", \"the day\")\n",
        "            return f\"In {loc} ({d0}), expect a high near {hi}°C and a low around {lo}°C.\"\n",
        "        return (f\"In {loc} over the next {len(window)} day(s), highs up to ~{hi}°C \"\n",
        "                f\"and lows down to ~{lo}°C.\")\n",
        "\n",
        "    if attr == \"wind\":\n",
        "        cur = weather_data.get(\"current\") or {}\n",
        "        ws = cur.get(\"wind_kmph\")\n",
        "        wd = cur.get(\"wind_dir\", \"\")\n",
        "        if ws is not None:\n",
        "            return f\"In {loc} {when}, current winds are about {ws} km/h {wd}.\"\n",
        "        return f\"In {loc} {when}, wind information is not available.\"\n",
        "\n",
        "    if attr == \"humidity\":\n",
        "        cur = weather_data.get(\"current\") or {}\n",
        "        h = cur.get(\"humidity\")\n",
        "        if h is not None:\n",
        "            return f\"In {loc} {when}, current humidity is approximately {h}%.\"\n",
        "        return f\"In {loc} {when}, humidity information is not available.\"\n",
        "\n",
        "    # Generic fallback summary\n",
        "    cond = (weather_data.get(\"current\") or {}).get(\"condition\", \"current conditions\").lower()\n",
        "    if len(window) == 1:\n",
        "        d0 = window[0].get(\"date\", \"the day\")\n",
        "        rp_txt = f\"{rainp_max}%\" if rainp_max is not None else \"unknown\"\n",
        "        return (f\"In {loc} ({d0}), it is {cond} with a high near {hi}°C, low around {lo}°C, \"\n",
        "                f\"and up to {rp_txt} chance of rain (≈{precip_sum:.1f} mm total).\")\n",
        "    rp_txt = f\"{rainp_max}%\" if rainp_max is not None else \"unknown\"\n",
        "    return (f\"In {loc} over the next {len(window)} day(s), expect {cond}, highs up to ~{hi}°C, \"\n",
        "            f\"lows near ~{lo}°C, and up to {rp_txt} (≈{precip_sum:.1f} mm total).\")\n"
      ]
    },
    {
      "cell_type": "markdown",
      "id": "fde44479",
      "metadata": {
        "id": "fde44479"
      },
      "source": [
        "## 🧪 Testing and Examples"
      ]
    },
    {
      "cell_type": "code",
      "source": [
        "# Test for generate_weather_response\n",
        "q = \"Will it rain tomorrow in Perth?\"\n",
        "parsed = parse_weather_question(q, default_location=\"Perth\")\n",
        "wd = get_weather_data(parsed.get(\"location\",\"Perth\"), forecast_days=parsed.get(\"days\",3), units=\"m\")\n",
        "print(\"Q:\", q)\n",
        "print(\"Parsed:\", parsed)\n",
        "print(\"Response:\", generate_weather_response(parsed, wd))\n"
      ],
      "metadata": {
        "colab": {
          "base_uri": "https://localhost:8080/"
        },
        "id": "dWae-8bv2L_C",
        "outputId": "17674a8f-381e-4c65-834a-a3e7f0a5eaed"
      },
      "id": "dWae-8bv2L_C",
      "execution_count": 30,
      "outputs": [
        {
          "output_type": "stream",
          "name": "stdout",
          "text": [
            "Q: Will it rain tomorrow in Perth?\n",
            "Parsed: {'location': 'Perth', 'days': 2, 'attribute': 'rain', 'when': 'tomorrow'}\n",
            "Response: In Perth (2025-10-05), chance of rain is 100%, expected precipitation 1.5 mm.\n"
          ]
        }
      ]
    },
    {
      "cell_type": "code",
      "source": [
        "# Test 1 — Weather Data API\n",
        "import json\n",
        "\n",
        "print(\"Test 1: get_weather_data (Perth, 3 days, metric)\")\n",
        "data_ok = get_weather_data(\"Perth\", forecast_days=3, units=\"m\")\n",
        "if isinstance(data_ok, dict) and \"error\" not in data_ok:\n",
        "    print(\"OK:\", list(data_ok.keys()))\n",
        "    print(\"Forecast length:\", len(data_ok.get(\"forecast\", [])))\n",
        "    print(\"Sample day:\", data_ok[\"forecast\"][0] if data_ok.get(\"forecast\") else \"N/A\")\n",
        "else:\n",
        "    print(\"Error:\", data_ok)"
      ],
      "metadata": {
        "colab": {
          "base_uri": "https://localhost:8080/"
        },
        "id": "T3CDU4e8e0Uo",
        "outputId": "98f61fba-4c9a-4b7f-ca54-5c1bb8a2e343"
      },
      "id": "T3CDU4e8e0Uo",
      "execution_count": 40,
      "outputs": [
        {
          "output_type": "stream",
          "name": "stdout",
          "text": [
            "Test 1: get_weather_data (Perth, 3 days, metric)\n",
            "OK: ['location', 'current', 'forecast']\n",
            "Forecast length: 3\n",
            "Sample day: {'date': '2025-10-04', 'min_c': 15, 'max_c': 21, 'chance_of_rain': 100, 'precip_mm': 4.4}\n"
          ]
        }
      ]
    },
    {
      "cell_type": "code",
      "source": [
        "# Test 2 — Weather Data API (invalid input)\n",
        "\n",
        "print(\"Test 2: get_weather_data (empty location)\")\n",
        "data_bad_input = get_weather_data(\"\", forecast_days=3, units=\"m\")\n",
        "print(data_bad_input)\n"
      ],
      "metadata": {
        "id": "_Ywb_Q2mgaAw",
        "outputId": "ce2be30e-34fa-4e18-8acd-3afb0b53c88d",
        "colab": {
          "base_uri": "https://localhost:8080/"
        }
      },
      "id": "_Ywb_Q2mgaAw",
      "execution_count": 39,
      "outputs": [
        {
          "output_type": "stream",
          "name": "stdout",
          "text": [
            "Test 2: get_weather_data (empty location)\n",
            "{'error': 'Please provide a valid location name.'}\n"
          ]
        }
      ]
    },
    {
      "cell_type": "code",
      "source": [
        "# Test 3 — Weather Data API (unlikely location)\n",
        "\n",
        "print(\"Test 3: get_weather_data ('Xxxyville')\")\n",
        "data_weird = get_weather_data(\"Xxxyville\", forecast_days=3, units=\"m\")\n",
        "print(\"Type:\", type(data_weird).__name__)\n",
        "print(data_weird if \"error\" in data_weird else {\"location\": data_weird.get(\"location\"),\n",
        "                                                \"forecast_len\": len(data_weird.get(\"forecast\", []))})\n"
      ],
      "metadata": {
        "id": "-ehd1_S-gjkl",
        "outputId": "f249fb66-cdc3-4cfb-f2de-98a0037aacca",
        "colab": {
          "base_uri": "https://localhost:8080/"
        }
      },
      "id": "-ehd1_S-gjkl",
      "execution_count": 41,
      "outputs": [
        {
          "output_type": "stream",
          "name": "stdout",
          "text": [
            "Test 3: get_weather_data ('Xxxyville')\n",
            "Type: dict\n",
            "{'error': 'Weather service returned an HTTP error (status 404).'}\n"
          ]
        }
      ]
    },
    {
      "cell_type": "code",
      "source": [
        "# Test 4 — Visualisations (live data)\n",
        "\n",
        "print(\"Test 4: Visualisations for Perth (3-day)\")\n",
        "wd_viz = get_weather_data(\"Perth\", forecast_days=3, units=\"m\")\n",
        "if isinstance(wd_viz, dict) and \"error\" not in wd_viz:\n",
        "    create_temperature_visualisation(wd_viz, output_type='display')\n",
        "    create_precipitation_visualisation(wd_viz, output_type='display')\n",
        "else:\n",
        "    print(\"Skipped visualisations:\", wd_viz)"
      ],
      "metadata": {
        "id": "TJhEVuGEgmx9",
        "outputId": "e836770b-6db0-4d52-f52e-7cf598c96740",
        "colab": {
          "base_uri": "https://localhost:8080/",
          "height": 975
        }
      },
      "id": "TJhEVuGEgmx9",
      "execution_count": 43,
      "outputs": [
        {
          "output_type": "stream",
          "name": "stdout",
          "text": [
            "Test 4: Visualisations for Perth (3-day)\n"
          ]
        },
        {
          "output_type": "display_data",
          "data": {
            "text/plain": [
              "<Figure size 640x480 with 1 Axes>"
            ],
            "image/png": "[encoded data removed]"
          },
          "metadata": {}
        },
        {
          "output_type": "display_data",
          "data": {
            "text/plain": [
              "<Figure size 640x480 with 1 Axes>"
            ],
            "image/png": "[encoded data removed]"
          },
          "metadata": {}
        }
      ]
    },
    {
      "cell_type": "code",
      "source": [
        "# Test 5 — NLP parsing examples\n",
        "\n",
        "print(\"Test 5: parse_weather_question samples\")\n",
        "samples = [\n",
        "    \"Will it rain tomorrow in Perth?\",\n",
        "    \"What is the temperature today?\",\n",
        "    \"Wind next 3 days for Perth\",\n",
        "    \"Humidity in Fremantle\",\n",
        "    \"Rain in Perth next 2 days\"\n",
        "]\n",
        "for q in samples:\n",
        "    parsed = parse_weather_question(q, default_location=\"Perth\")\n",
        "    print(\"Q:\", q)\n",
        "    print(\"Parsed:\", parsed)\n",
        "    print()\n"
      ],
      "metadata": {
        "colab": {
          "base_uri": "https://localhost:8080/"
        },
        "id": "UWeq3R4B4QvE",
        "outputId": "098f7ef0-4004-4546-d8f1-2abb3bc0d2eb"
      },
      "id": "UWeq3R4B4QvE",
      "execution_count": 44,
      "outputs": [
        {
          "output_type": "stream",
          "name": "stdout",
          "text": [
            "Test 5: parse_weather_question samples\n",
            "Q: Will it rain tomorrow in Perth?\n",
            "Parsed: {'location': 'Perth', 'days': 2, 'attribute': 'rain', 'when': 'tomorrow'}\n",
            "\n",
            "Q: What is the temperature today?\n",
            "Parsed: {'location': 'Perth', 'days': 1, 'attribute': 'temperature', 'when': 'today'}\n",
            "\n",
            "Q: Wind next 3 days for Perth\n",
            "Parsed: {'location': 'Perth', 'days': 3, 'attribute': 'wind', 'when': 'next'}\n",
            "\n",
            "Q: Humidity in Fremantle\n",
            "Parsed: {'location': 'Fremantle', 'days': 3, 'attribute': 'humidity', 'when': 'next'}\n",
            "\n",
            "Q: Rain in Perth next 2 days\n",
            "Parsed: {'location': 'Perth next', 'days': 2, 'attribute': 'rain', 'when': 'next'}\n",
            "\n"
          ]
        }
      ]
    },
    {
      "cell_type": "code",
      "source": [
        "# Test 6 — End-to-end Q&A (parse -> fetch -> respond)\n",
        "\n",
        "print(\"Test 6: End-to-end Q&A\")\n",
        "q = \"Will it rain tomorrow in Perth?\"\n",
        "parsed = parse_weather_question(q, default_location=\"Perth\")\n",
        "wd = get_weather_data(parsed.get(\"location\", \"Perth\"), forecast_days=parsed.get(\"days\", 3), units=\"m\")\n",
        "resp = generate_weather_response(parsed, wd)\n",
        "print(\"Question:\", q)\n",
        "print(\"Response:\", resp)\n"
      ],
      "metadata": {
        "colab": {
          "base_uri": "https://localhost:8080/"
        },
        "id": "cK2qdgzD4W0z",
        "outputId": "b61169bd-5d3a-44af-90f3-c1aaffe37670"
      },
      "id": "cK2qdgzD4W0z",
      "execution_count": 45,
      "outputs": [
        {
          "output_type": "stream",
          "name": "stdout",
          "text": [
            "Test 6: End-to-end Q&A\n",
            "Question: Will it rain tomorrow in Perth?\n",
            "Response: In Perth (2025-10-05), chance of rain is 100%, expected precipitation 1.5 mm.\n"
          ]
        }
      ]
    },
    {
      "cell_type": "markdown",
      "id": "d2885880",
      "metadata": {
        "id": "d2885880"
      },
      "source": [
        "## 🗂️ AI Prompting Log (Optional)\n",
        "Add markdown cells here summarising prompts used or link to AI conversations in the `ai-conversations/` folder."
      ]
    }
  ],
  "metadata": {
    "language_info": {
      "name": "python"
    },
    "colab": {
      "provenance": [],
      "include_colab_link": true
    },
    "kernelspec": {
      "name": "python3",
      "display_name": "Python 3"
    }
  },
  "nbformat": 4,
  "nbformat_minor": 5
}